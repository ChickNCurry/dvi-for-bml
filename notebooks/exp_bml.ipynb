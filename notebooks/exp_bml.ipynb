{
 "cells": [
  {
   "cell_type": "code",
   "execution_count": 1,
   "metadata": {},
   "outputs": [],
   "source": [
    "import os\n",
    "\n",
    "import torch\n",
    "import wandb\n",
    "from hydra import compose, initialize\n",
    "from torch.optim.lr_scheduler import ReduceLROnPlateau\n",
    "from torch.utils.data import DataLoader\n",
    "\n",
    "from src.utils.load import load_cdvi_for_bml\n",
    "from src.train.train_bml import BetterBMLTrainer\n",
    "from src.train.train_bml_alternating import AlternatingBMLTrainer\n",
    "from src.utils.visualize import visualize_cdvi_for_bml_test"
   ]
  },
  {
   "cell_type": "code",
   "execution_count": 2,
   "metadata": {},
   "outputs": [],
   "source": [
    "try:\n",
    "    import torch_directml\n",
    "    device = torch_directml.device() \n",
    "except ImportError:\n",
    "    device = torch.device(\"cpu\") "
   ]
  },
  {
   "cell_type": "code",
   "execution_count": 3,
   "metadata": {},
   "outputs": [],
   "source": [
    "dir = \"../models/test\" "
   ]
  },
  {
   "cell_type": "code",
   "execution_count": null,
   "metadata": {},
   "outputs": [
    {
     "name": "stderr",
     "output_type": "stream",
     "text": [
      "Generating tasks: 100%|██████████| 8192/8192 [00:00<00:00, 285683.60it/s]\n"
     ]
    }
   ],
   "source": [
    "with initialize(version_base=None, config_path=dir):\n",
    "    cfg = compose(config_name=\"cfg\")\n",
    "\n",
    "    cdvi, optimizer, train_loader, val_loader = load_cdvi_for_bml(cfg, alternating_ratio=0.2, device=device)\n",
    "\n",
    "    cdvi_path = f\"{dir}/cdvi.pth\"\n",
    "    optim_path = f\"{dir}/optim.pth\"\n",
    "\n",
    "    if os.path.exists(cdvi_path):\n",
    "        cdvi_state_dict = torch.load(cdvi_path, map_location=torch.device(\"cpu\"), weights_only=True)\n",
    "        cdvi.load_state_dict(cdvi_state_dict)\n",
    "        print(f\"loaded cdvi from {cdvi_path}\")\n",
    "\n",
    "    if os.path.exists(optim_path):\n",
    "        optim_state_dict = torch.load(optim_path, map_location=torch.device('cpu'), weights_only=True)\n",
    "        optimizer.load_state_dict(optim_state_dict)\n",
    "        print(f\"loaded optim from {optim_path}\")"
   ]
  },
  {
   "cell_type": "code",
   "execution_count": 5,
   "metadata": {},
   "outputs": [
    {
     "name": "stderr",
     "output_type": "stream",
     "text": [
      "\u001b[34m\u001b[1mwandb\u001b[0m: Using wandb-core as the SDK backend.  Please refer to https://wandb.me/wandb-core for more information.\n",
      "\u001b[34m\u001b[1mwandb\u001b[0m: Currently logged in as: \u001b[33mmax-burzer\u001b[0m (\u001b[33mmax-burzer-karlsruhe-institute-of-technology\u001b[0m). Use \u001b[1m`wandb login --relogin`\u001b[0m to force relogin\n"
     ]
    },
    {
     "data": {
      "text/html": [
       "Tracking run with wandb version 0.18.6"
      ],
      "text/plain": [
       "<IPython.core.display.HTML object>"
      ]
     },
     "metadata": {},
     "output_type": "display_data"
    },
    {
     "data": {
      "text/html": [
       "Run data is saved locally in <code>/home/chickencurry/dvi-for-bml/notebooks/wandb/run-20241206_234106-lr8hdqk9</code>"
      ],
      "text/plain": [
       "<IPython.core.display.HTML object>"
      ]
     },
     "metadata": {},
     "output_type": "display_data"
    },
    {
     "data": {
      "text/html": [
       "Syncing run <strong><a href='https://wandb.ai/max-burzer-karlsruhe-institute-of-technology/test-12345-alternating/runs/lr8hdqk9' target=\"_blank\">hardy-sun-4</a></strong> to <a href='https://wandb.ai/max-burzer-karlsruhe-institute-of-technology/test-12345-alternating' target=\"_blank\">Weights & Biases</a> (<a href='https://wandb.me/developer-guide' target=\"_blank\">docs</a>)<br/>"
      ],
      "text/plain": [
       "<IPython.core.display.HTML object>"
      ]
     },
     "metadata": {},
     "output_type": "display_data"
    },
    {
     "data": {
      "text/html": [
       " View project at <a href='https://wandb.ai/max-burzer-karlsruhe-institute-of-technology/test-12345-alternating' target=\"_blank\">https://wandb.ai/max-burzer-karlsruhe-institute-of-technology/test-12345-alternating</a>"
      ],
      "text/plain": [
       "<IPython.core.display.HTML object>"
      ]
     },
     "metadata": {},
     "output_type": "display_data"
    },
    {
     "data": {
      "text/html": [
       " View run at <a href='https://wandb.ai/max-burzer-karlsruhe-institute-of-technology/test-12345-alternating/runs/lr8hdqk9' target=\"_blank\">https://wandb.ai/max-burzer-karlsruhe-institute-of-technology/test-12345-alternating/runs/lr8hdqk9</a>"
      ],
      "text/plain": [
       "<IPython.core.display.HTML object>"
      ]
     },
     "metadata": {},
     "output_type": "display_data"
    }
   ],
   "source": [
    "wandb_logging = True\n",
    "\n",
    "if wandb_logging:\n",
    "    wandb.init(project=\"test-12345-alternating\")"
   ]
  },
  {
   "cell_type": "code",
   "execution_count": 6,
   "metadata": {},
   "outputs": [],
   "source": [
    "# params = [\n",
    "#     {\"params\": dvi_process.parameters(), \"lr\": config.learning_rate},\n",
    "#     {\"params\": set_encoder.parameters(), \"lr\": config.learning_rate},\n",
    "#     {\"params\": decoder.parameters(), \"lr\": config.learning_rate}\n",
    "# ]\n",
    "\n",
    "scheduler = None #ReduceLROnPlateau(optimizer, mode=\"min\", factor=0.3, patience=500)\n",
    "\n",
    "# trainer = BetterBMLTrainer(\n",
    "#     device=device,\n",
    "#     cdvi=cdvi,\n",
    "#     train_loader=train_loader,\n",
    "#     val_loader=val_loader,\n",
    "#     optimizer=optimizer,\n",
    "#     scheduler=scheduler,\n",
    "#     wandb_logging=wandb_logging\n",
    "# )\n",
    "\n",
    "trainer = AlternatingBMLTrainer(\n",
    "    device=device,\n",
    "    cdvi=cdvi,\n",
    "    train_decoder_loader=train_loader[0],\n",
    "    train_cdvi_loader=train_loader[1],\n",
    "    val_loader=val_loader,\n",
    "    optimizer=optimizer,\n",
    "    wandb_logging=wandb_logging\n",
    ")"
   ]
  },
  {
   "cell_type": "code",
   "execution_count": null,
   "metadata": {},
   "outputs": [],
   "source": [
    "num_epochs = 100\n",
    "\n",
    "losses = trainer.train(\n",
    "    num_epochs=num_epochs,\n",
    "    max_clip_norm=None, # cfg.training.max_clip_norm,\n",
    "    alpha=None, # cfg.training.alpha,\n",
    "    validate=True\n",
    ")"
   ]
  },
  {
   "cell_type": "code",
   "execution_count": null,
   "metadata": {},
   "outputs": [],
   "source": [
    "max_context_size = 6\n",
    "num_samples = 256\n",
    "gen_dataloader = DataLoader(val_loader.dataset, 1, True)\n",
    "\n",
    "ranges = [(-6, 6), (-6, 6)]\n",
    "\n",
    "targets, samples = visualize_cdvi_for_bml_test(\n",
    "    device=device,\n",
    "    cdvi=cdvi,\n",
    "    dataloader=gen_dataloader,\n",
    "    config=cfg,\n",
    "    num_samples=num_samples,\n",
    "    max_context_size=max_context_size,\n",
    "    ranges=ranges,\n",
    ")"
   ]
  },
  {
   "cell_type": "code",
   "execution_count": null,
   "metadata": {},
   "outputs": [],
   "source": [
    "torch.save(cdvi.state_dict(), f\"{dir}/cdvi_finetuned.pth\")"
   ]
  }
 ],
 "metadata": {
  "kernelspec": {
   "display_name": "directml",
   "language": "python",
   "name": "python3"
  },
  "language_info": {
   "codemirror_mode": {
    "name": "ipython",
    "version": 3
   },
   "file_extension": ".py",
   "mimetype": "text/x-python",
   "name": "python",
   "nbconvert_exporter": "python",
   "pygments_lexer": "ipython3",
   "version": "3.11.9"
  }
 },
 "nbformat": 4,
 "nbformat_minor": 2
}
