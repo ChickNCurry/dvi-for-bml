{
 "cells": [
  {
   "cell_type": "code",
   "execution_count": 1,
   "metadata": {},
   "outputs": [],
   "source": [
    "import os\n",
    "\n",
    "import torch\n",
    "import wandb\n",
    "from hydra import compose, initialize\n",
    "from torch.utils.data import DataLoader\n",
    "\n",
    "from src.utils.load import load_dvinp\n",
    "from src.utils.visualize import visualize_dvinp_both"
   ]
  },
  {
   "cell_type": "code",
   "execution_count": 2,
   "metadata": {},
   "outputs": [],
   "source": [
    "try:\n",
    "    import torch_directml\n",
    "    device = torch_directml.device() \n",
    "except ImportError:\n",
    "    device = torch.device(\"cpu\") "
   ]
  },
  {
   "cell_type": "code",
   "execution_count": 3,
   "metadata": {},
   "outputs": [],
   "source": [
    "dir = \"../models/test_dis_informed\" "
   ]
  },
  {
   "cell_type": "code",
   "execution_count": 4,
   "metadata": {},
   "outputs": [
    {
     "name": "stderr",
     "output_type": "stream",
     "text": [
      "Generating tasks: 100%|██████████| 4096/4096 [00:00<00:00, 295252.71it/s]\n",
      "Dropped Escape call with ulEscapeCode : 0x03007703\n"
     ]
    }
   ],
   "source": [
    "with initialize(version_base=None, config_path=dir):\n",
    "    cfg = compose(config_name=\"cfg\")\n",
    "\n",
    "    dvinp, trainer = load_dvinp(cfg, device)\n",
    "\n",
    "    dvinp_path = f\"{dir}/dvinp.pth\"\n",
    "    optim_path = f\"{dir}/optim.pth\"\n",
    "\n",
    "    if os.path.exists(dvinp_path):\n",
    "        dvinp_state_dict = torch.load(dvinp_path, map_location=torch.device(\"cpu\"))\n",
    "        dvinp.load_state_dict(dvinp_state_dict)\n",
    "        print(f\"loaded dvinp from {dvinp_path}\")\n",
    "\n",
    "    if os.path.exists(optim_path):\n",
    "        optim_state_dict = torch.load(optim_path, map_location=torch.device('cpu'))\n",
    "        trainer.optimizer.load_state_dict(optim_state_dict)\n",
    "        print(f\"loaded optim from {optim_path}\")"
   ]
  },
  {
   "cell_type": "code",
   "execution_count": 5,
   "metadata": {},
   "outputs": [],
   "source": [
    "wandb_logging = False\n",
    "\n",
    "trainer.wandb_logging = wandb_logging\n",
    "\n",
    "if wandb_logging:\n",
    "    wandb.init(project=\"test-new\")"
   ]
  },
  {
   "cell_type": "code",
   "execution_count": 6,
   "metadata": {},
   "outputs": [],
   "source": [
    "# trainer.optimizer.param_groups[0][\"lr\"] = 0.2 * cfg.training.learning_rate\n",
    "# print(trainer.optimizer.param_groups[0][\"lr\"])"
   ]
  },
  {
   "cell_type": "code",
   "execution_count": null,
   "metadata": {},
   "outputs": [],
   "source": [
    "num_epochs = 100\n",
    "\n",
    "losses = trainer.train(\n",
    "    num_epochs=num_epochs,\n",
    "    max_clip_norm=cfg.training.max_clip_norm,\n",
    "    alpha=cfg.training.alpha,\n",
    "    validate=True\n",
    ")"
   ]
  },
  {
   "cell_type": "code",
   "execution_count": null,
   "metadata": {},
   "outputs": [],
   "source": [
    "max_context_size = 5\n",
    "num_samples = 2500 # num_cells will be root\n",
    "gen_dataloader = DataLoader(trainer.dataset, 1, True)\n",
    "\n",
    "ranges = [(-5, 5), (-5, 5)]\n",
    "\n",
    "targets, samples = visualize_dvinp_both(\n",
    "    device=device,\n",
    "    dvinp=dvinp,\n",
    "    dataloader=gen_dataloader,\n",
    "    num_samples=num_samples,\n",
    "    max_context_size=max_context_size,\n",
    "    ranges=ranges,\n",
    ")"
   ]
  },
  {
   "cell_type": "code",
   "execution_count": 21,
   "metadata": {},
   "outputs": [],
   "source": [
    "torch.save(dvinp.state_dict(), f\"{dir}/dvinp.pth\")"
   ]
  }
 ],
 "metadata": {
  "kernelspec": {
   "display_name": "directml",
   "language": "python",
   "name": "python3"
  },
  "language_info": {
   "codemirror_mode": {
    "name": "ipython",
    "version": 3
   },
   "file_extension": ".py",
   "mimetype": "text/x-python",
   "name": "python",
   "nbconvert_exporter": "python",
   "pygments_lexer": "ipython3",
   "version": "3.11.9"
  }
 },
 "nbformat": 4,
 "nbformat_minor": 2
}
