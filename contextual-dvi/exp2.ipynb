{
 "cells": [
  {
   "cell_type": "code",
   "execution_count": 1,
   "metadata": {},
   "outputs": [],
   "source": [
    "from contextual_distros import ContextualLatentSpaceGMM\n",
    "import torch\n",
    "from matplotlib import pyplot as plt"
   ]
  },
  {
   "cell_type": "code",
   "execution_count": 2,
   "metadata": {},
   "outputs": [],
   "source": [
    "device = torch.device(\"cpu\")"
   ]
  },
  {
   "cell_type": "code",
   "execution_count": 151,
   "metadata": {},
   "outputs": [
    {
     "name": "stdout",
     "output_type": "stream",
     "text": [
      "torch.Size([2, 2])\n",
      "torch.Size([2])\n",
      "torch.Size([2])\n",
      "[tensor([1.5000, 1.5000]), tensor([ 1.5000, -1.5000]), tensor([-1.5000,  1.5000]), tensor([-1.5000, -1.5000])]\n"
     ]
    }
   ],
   "source": [
    "context_size = 2\n",
    "z_dim = 2\n",
    "\n",
    "# context = torch.rand((context_size, z_dim), device=device) * 4\n",
    "context = torch.ones((context_size, z_dim), device=device) * 1.5\n",
    "print(context.shape)\n",
    "\n",
    "p_z = ContextualLatentSpaceGMM(context)\n",
    "\n",
    "print(p_z.mu.shape)\n",
    "print(p_z.sigma.shape)\n",
    "print([g.mean for g in p_z.gaussians])"
   ]
  },
  {
   "cell_type": "code",
   "execution_count": 152,
   "metadata": {},
   "outputs": [
    {
     "name": "stdout",
     "output_type": "stream",
     "text": [
      "torch.Size([10000, 2])\n"
     ]
    },
    {
     "data": {
      "image/png": "[encoded data removed]",
      "text/plain": [
       "<Figure size 640x480 with 1 Axes>"
      ]
     },
     "metadata": {},
     "output_type": "display_data"
    }
   ],
   "source": [
    "num_samples = 10000\n",
    "\n",
    "samples = p_z.sample((num_samples,))\n",
    "\n",
    "print(samples.shape)\n",
    "\n",
    "plt.hist2d([z[0] for z in samples], [z[1] for z in samples], bins=40, range=[(-5, 5), (-5, 5)])\n",
    "plt.ylim(-5, 5)\n",
    "plt.xlim(-5, 5)\n",
    "plt.show()"
   ]
  }
 ],
 "metadata": {
  "kernelspec": {
   "display_name": "directml",
   "language": "python",
   "name": "python3"
  },
  "language_info": {
   "codemirror_mode": {
    "name": "ipython",
    "version": 3
   },
   "file_extension": ".py",
   "mimetype": "text/x-python",
   "name": "python",
   "nbconvert_exporter": "python",
   "pygments_lexer": "ipython3",
   "version": "3.11.9"
  }
 },
 "nbformat": 4,
 "nbformat_minor": 2
}
