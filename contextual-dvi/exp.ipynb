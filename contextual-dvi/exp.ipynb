{
 "cells": [
  {
   "cell_type": "code",
   "execution_count": 1,
   "metadata": {},
   "outputs": [],
   "source": [
    "from dataclasses import dataclass\n",
    "\n",
    "import numpy as np\n",
    "import seaborn as sns\n",
    "import torch\n",
    "import wandb\n",
    "from contextual_gaussian import (ContextDataset, ContextualGaussian, ContextualGMM)\n",
    "from dvi_process import DIS\n",
    "from matplotlib import pyplot as plt\n",
    "from score_function import ScoreFunction\n",
    "from torch.distributions import Normal\n",
    "from torch.utils.data import DataLoader\n",
    "from train import train\n",
    "from dataclasses import asdict"
   ]
  },
  {
   "cell_type": "code",
   "execution_count": 2,
   "metadata": {},
   "outputs": [],
   "source": [
    "import torch_directml\n",
    "device = torch.device(\"cpu\") # = torch_directml.device()"
   ]
  },
  {
   "cell_type": "code",
   "execution_count": 3,
   "metadata": {},
   "outputs": [],
   "source": [
    "dataset = ContextDataset(size=4096)\n",
    "dataloader = DataLoader(dataset, batch_size=4096, shuffle=True)"
   ]
  },
  {
   "cell_type": "code",
   "execution_count": 4,
   "metadata": {},
   "outputs": [],
   "source": [
    "@dataclass\n",
    "class Config():\n",
    "    num_steps = 16\n",
    "    c_dim = 1\n",
    "    z_dim = 1\n",
    "    h_dim = 32\n",
    "    num_layers = 3\n",
    "    non_linearity = \"SiLU\"\n",
    "    learning_rate = 3e-4\n",
    "    num_epochs = 1000\n",
    "\n",
    "config = Config()"
   ]
  },
  {
   "cell_type": "code",
   "execution_count": 5,
   "metadata": {},
   "outputs": [],
   "source": [
    "score_function = ScoreFunction(\n",
    "    c_dim=config.c_dim, \n",
    "    h_dim=config.h_dim, \n",
    "    z_dim=config.z_dim, \n",
    "    num_layers=config.num_layers, \n",
    "    non_linearity=config.non_linearity, \n",
    "    num_steps=config.num_steps\n",
    ")\n",
    "\n",
    "dvi_process = DIS(\n",
    "    device=device, \n",
    "    z_dim=config.z_dim, \n",
    "    num_steps=config.num_steps, \n",
    "    score_function=score_function\n",
    ").to(device)\n",
    "\n",
    "optimizer = torch.optim.Adam(dvi_process.parameters(), lr=config.learning_rate)"
   ]
  },
  {
   "cell_type": "code",
   "execution_count": 6,
   "metadata": {},
   "outputs": [],
   "source": [
    "target = ContextualGMM"
   ]
  },
  {
   "cell_type": "code",
   "execution_count": 7,
   "metadata": {},
   "outputs": [],
   "source": [
    "wandb_logging = False\n",
    "if wandb_logging:\n",
    "    wandb.init(project=\"dvi\", config=asdict(config))"
   ]
  },
  {
   "cell_type": "code",
   "execution_count": 8,
   "metadata": {},
   "outputs": [
    {
     "name": "stderr",
     "output_type": "stream",
     "text": [
      "  0%|          | 0/1 [00:00<?, ?it/s]/home/chickencurry/miniconda3/envs/directml/lib/python3.11/site-packages/torch/distributions/distribution.py:53: UserWarning: <class 'contextual_gaussian.ContextualGMM'> does not define `arg_constraints`. Please set `arg_constraints = {}` or initialize the distribution with `validate_args=False` to turn off validation.\n",
      "  warnings.warn(\n",
      "100%|██████████| 1/1 [00:00<00:00,  1.88it/s, epoch=0, loss=inf]\n",
      "  0%|          | 0/1 [00:00<?, ?it/s]\n"
     ]
    },
    {
     "ename": "ValueError",
     "evalue": "Expected parameter loc (Tensor of shape (4096, 1)) of distribution Normal(loc: torch.Size([4096, 1]), scale: torch.Size([4096, 1])) to satisfy the constraint Real(), but found invalid values:\ntensor([[nan],\n        [nan],\n        [nan],\n        ...,\n        [nan],\n        [nan],\n        [nan]], grad_fn=<AddBackward0>)",
     "output_type": "error",
     "traceback": [
      "\u001b[0;31m---------------------------------------------------------------------------\u001b[0m",
      "\u001b[0;31mValueError\u001b[0m                                Traceback (most recent call last)",
      "Cell \u001b[0;32mIn[8], line 1\u001b[0m\n\u001b[0;32m----> 1\u001b[0m losses \u001b[38;5;241m=\u001b[39m \u001b[43mtrain\u001b[49m\u001b[43m(\u001b[49m\n\u001b[1;32m      2\u001b[0m \u001b[43m    \u001b[49m\u001b[43mdvi_process\u001b[49m\u001b[43m,\u001b[49m\u001b[43m \u001b[49m\n\u001b[1;32m      3\u001b[0m \u001b[43m    \u001b[49m\u001b[43mdevice\u001b[49m\u001b[43m,\u001b[49m\u001b[43m \u001b[49m\n\u001b[1;32m      4\u001b[0m \u001b[43m    \u001b[49m\u001b[43mdataloader\u001b[49m\u001b[43m,\u001b[49m\u001b[43m \u001b[49m\n\u001b[1;32m      5\u001b[0m \u001b[43m    \u001b[49m\u001b[43moptimizer\u001b[49m\u001b[43m,\u001b[49m\u001b[43m \u001b[49m\n\u001b[1;32m      6\u001b[0m \u001b[43m    \u001b[49m\u001b[43mconfig\u001b[49m\u001b[38;5;241;43m.\u001b[39;49m\u001b[43mnum_epochs\u001b[49m\u001b[43m,\u001b[49m\u001b[43m \u001b[49m\n\u001b[1;32m      7\u001b[0m \u001b[43m    \u001b[49m\u001b[43mtarget\u001b[49m\u001b[43m,\u001b[49m\n\u001b[1;32m      8\u001b[0m \u001b[43m    \u001b[49m\u001b[43mwandb_logging\u001b[49m\u001b[38;5;241;43m=\u001b[39;49m\u001b[43mwandb_logging\u001b[49m\n\u001b[1;32m      9\u001b[0m \u001b[43m)\u001b[49m\n",
      "File \u001b[0;32m~/dvi-for-bml/contextual-dvi/train.py:38\u001b[0m, in \u001b[0;36mtrain\u001b[0;34m(dvi_process, device, dataloader, optimizer, num_epochs, target, wandb_logging)\u001b[0m\n\u001b[1;32m     34\u001b[0m loop \u001b[38;5;241m=\u001b[39m tqdm(dataloader, total\u001b[38;5;241m=\u001b[39m\u001b[38;5;28mlen\u001b[39m(dataloader))\n\u001b[1;32m     36\u001b[0m \u001b[38;5;28;01mfor\u001b[39;00m batch \u001b[38;5;129;01min\u001b[39;00m loop:\n\u001b[0;32m---> 38\u001b[0m     loss \u001b[38;5;241m=\u001b[39m \u001b[43mstep\u001b[49m\u001b[43m(\u001b[49m\u001b[43mdvi_process\u001b[49m\u001b[43m,\u001b[49m\u001b[43m \u001b[49m\u001b[43mdevice\u001b[49m\u001b[43m,\u001b[49m\u001b[43m \u001b[49m\u001b[43mbatch\u001b[49m\u001b[38;5;241;43m.\u001b[39;49m\u001b[43mto\u001b[49m\u001b[43m(\u001b[49m\u001b[43mdevice\u001b[49m\u001b[43m)\u001b[49m\u001b[43m,\u001b[49m\u001b[43m \u001b[49m\u001b[43mtarget\u001b[49m\u001b[43m)\u001b[49m\n\u001b[1;32m     40\u001b[0m     optimizer\u001b[38;5;241m.\u001b[39mzero_grad()\n\u001b[1;32m     41\u001b[0m     loss\u001b[38;5;241m.\u001b[39mbackward()  \u001b[38;5;66;03m# type: ignore\u001b[39;00m\n",
      "File \u001b[0;32m~/dvi-for-bml/contextual-dvi/train.py:78\u001b[0m, in \u001b[0;36mstep\u001b[0;34m(dvi_process, device, batch, target)\u001b[0m\n\u001b[1;32m     70\u001b[0m p_z_0 \u001b[38;5;241m=\u001b[39m Normal(  \u001b[38;5;66;03m# type: ignore\u001b[39;00m\n\u001b[1;32m     71\u001b[0m     torch\u001b[38;5;241m.\u001b[39mzeros((batch\u001b[38;5;241m.\u001b[39mshape[\u001b[38;5;241m0\u001b[39m], dvi_process\u001b[38;5;241m.\u001b[39mz_dim), device\u001b[38;5;241m=\u001b[39mdevice),\n\u001b[1;32m     72\u001b[0m     torch\u001b[38;5;241m.\u001b[39mones((batch\u001b[38;5;241m.\u001b[39mshape[\u001b[38;5;241m0\u001b[39m], dvi_process\u001b[38;5;241m.\u001b[39mz_dim), device\u001b[38;5;241m=\u001b[39mdevice),\n\u001b[1;32m     73\u001b[0m     \u001b[38;5;66;03m# * dvi_process.sigmas[0],\u001b[39;00m\n\u001b[1;32m     74\u001b[0m )\n\u001b[1;32m     76\u001b[0m p_z_T \u001b[38;5;241m=\u001b[39m target(batch)\n\u001b[0;32m---> 78\u001b[0m log_w, _ \u001b[38;5;241m=\u001b[39m \u001b[43mdvi_process\u001b[49m\u001b[38;5;241;43m.\u001b[39;49m\u001b[43mrun_chain\u001b[49m\u001b[43m(\u001b[49m\u001b[43mp_z_0\u001b[49m\u001b[43m,\u001b[49m\u001b[43m \u001b[49m\u001b[43mp_z_T\u001b[49m\u001b[43m,\u001b[49m\u001b[43m \u001b[49m\u001b[43mbatch\u001b[49m\u001b[43m)\u001b[49m\n\u001b[1;32m     80\u001b[0m loss \u001b[38;5;241m=\u001b[39m \u001b[38;5;241m-\u001b[39mlog_w\n\u001b[1;32m     82\u001b[0m \u001b[38;5;28;01mreturn\u001b[39;00m loss\n",
      "File \u001b[0;32m~/dvi-for-bml/contextual-dvi/dvi_process.py:52\u001b[0m, in \u001b[0;36mDiffusionVIProcess.run_chain\u001b[0;34m(self, p_z_0, p_z_T, context)\u001b[0m\n\u001b[1;32m     48\u001b[0m \u001b[38;5;28;01mfor\u001b[39;00m i \u001b[38;5;129;01min\u001b[39;00m \u001b[38;5;28mrange\u001b[39m(\u001b[38;5;241m0\u001b[39m, \u001b[38;5;28mself\u001b[39m\u001b[38;5;241m.\u001b[39mnum_steps):\n\u001b[1;32m     50\u001b[0m     t \u001b[38;5;241m=\u001b[39m i \u001b[38;5;241m+\u001b[39m \u001b[38;5;241m1\u001b[39m\n\u001b[0;32m---> 52\u001b[0m     fwd_kernel \u001b[38;5;241m=\u001b[39m \u001b[38;5;28;43mself\u001b[39;49m\u001b[38;5;241;43m.\u001b[39;49m\u001b[43mforward_kernel\u001b[49m\u001b[43m(\u001b[49m\u001b[43mz_samples\u001b[49m\u001b[43m[\u001b[49m\u001b[43mt\u001b[49m\u001b[43m \u001b[49m\u001b[38;5;241;43m-\u001b[39;49m\u001b[43m \u001b[49m\u001b[38;5;241;43m1\u001b[39;49m\u001b[43m]\u001b[49m\u001b[43m,\u001b[49m\u001b[43m \u001b[49m\u001b[43mt\u001b[49m\u001b[43m,\u001b[49m\u001b[43m \u001b[49m\u001b[43mcontext\u001b[49m\u001b[43m)\u001b[49m\n\u001b[1;32m     53\u001b[0m     z_samples\u001b[38;5;241m.\u001b[39mappend(fwd_kernel\u001b[38;5;241m.\u001b[39mrsample())\n\u001b[1;32m     55\u001b[0m     bwd_kernel \u001b[38;5;241m=\u001b[39m \u001b[38;5;28mself\u001b[39m\u001b[38;5;241m.\u001b[39mbackward_kernel(z_samples[t], t \u001b[38;5;241m-\u001b[39m \u001b[38;5;241m1\u001b[39m)\n",
      "File \u001b[0;32m~/dvi-for-bml/contextual-dvi/dvi_process.py:120\u001b[0m, in \u001b[0;36mDIS.forward_kernel\u001b[0;34m(self, z_prev, t, c)\u001b[0m\n\u001b[1;32m    117\u001b[0m z_sigma \u001b[38;5;241m=\u001b[39m z_sigma\u001b[38;5;241m.\u001b[39mrepeat(z_mu\u001b[38;5;241m.\u001b[39mshape[\u001b[38;5;241m0\u001b[39m], \u001b[38;5;241m1\u001b[39m)\n\u001b[1;32m    118\u001b[0m \u001b[38;5;66;03m# (batch_size, z_dim)\u001b[39;00m\n\u001b[0;32m--> 120\u001b[0m \u001b[38;5;28;01mreturn\u001b[39;00m \u001b[43mNormal\u001b[49m\u001b[43m(\u001b[49m\u001b[43mz_mu\u001b[49m\u001b[43m,\u001b[49m\u001b[43m \u001b[49m\u001b[43mz_sigma\u001b[49m\u001b[43m)\u001b[49m\n",
      "File \u001b[0;32m~/miniconda3/envs/directml/lib/python3.11/site-packages/torch/distributions/normal.py:56\u001b[0m, in \u001b[0;36mNormal.__init__\u001b[0;34m(self, loc, scale, validate_args)\u001b[0m\n\u001b[1;32m     54\u001b[0m \u001b[38;5;28;01melse\u001b[39;00m:\n\u001b[1;32m     55\u001b[0m     batch_shape \u001b[38;5;241m=\u001b[39m \u001b[38;5;28mself\u001b[39m\u001b[38;5;241m.\u001b[39mloc\u001b[38;5;241m.\u001b[39msize()\n\u001b[0;32m---> 56\u001b[0m \u001b[38;5;28;43msuper\u001b[39;49m\u001b[43m(\u001b[49m\u001b[43m)\u001b[49m\u001b[38;5;241;43m.\u001b[39;49m\u001b[38;5;21;43m__init__\u001b[39;49m\u001b[43m(\u001b[49m\u001b[43mbatch_shape\u001b[49m\u001b[43m,\u001b[49m\u001b[43m \u001b[49m\u001b[43mvalidate_args\u001b[49m\u001b[38;5;241;43m=\u001b[39;49m\u001b[43mvalidate_args\u001b[49m\u001b[43m)\u001b[49m\n",
      "File \u001b[0;32m~/miniconda3/envs/directml/lib/python3.11/site-packages/torch/distributions/distribution.py:68\u001b[0m, in \u001b[0;36mDistribution.__init__\u001b[0;34m(self, batch_shape, event_shape, validate_args)\u001b[0m\n\u001b[1;32m     66\u001b[0m         valid \u001b[38;5;241m=\u001b[39m constraint\u001b[38;5;241m.\u001b[39mcheck(value)\n\u001b[1;32m     67\u001b[0m         \u001b[38;5;28;01mif\u001b[39;00m \u001b[38;5;129;01mnot\u001b[39;00m valid\u001b[38;5;241m.\u001b[39mall():\n\u001b[0;32m---> 68\u001b[0m             \u001b[38;5;28;01mraise\u001b[39;00m \u001b[38;5;167;01mValueError\u001b[39;00m(\n\u001b[1;32m     69\u001b[0m                 \u001b[38;5;124mf\u001b[39m\u001b[38;5;124m\"\u001b[39m\u001b[38;5;124mExpected parameter \u001b[39m\u001b[38;5;132;01m{\u001b[39;00mparam\u001b[38;5;132;01m}\u001b[39;00m\u001b[38;5;124m \u001b[39m\u001b[38;5;124m\"\u001b[39m\n\u001b[1;32m     70\u001b[0m                 \u001b[38;5;124mf\u001b[39m\u001b[38;5;124m\"\u001b[39m\u001b[38;5;124m(\u001b[39m\u001b[38;5;132;01m{\u001b[39;00m\u001b[38;5;28mtype\u001b[39m(value)\u001b[38;5;241m.\u001b[39m\u001b[38;5;18m__name__\u001b[39m\u001b[38;5;132;01m}\u001b[39;00m\u001b[38;5;124m of shape \u001b[39m\u001b[38;5;132;01m{\u001b[39;00m\u001b[38;5;28mtuple\u001b[39m(value\u001b[38;5;241m.\u001b[39mshape)\u001b[38;5;132;01m}\u001b[39;00m\u001b[38;5;124m) \u001b[39m\u001b[38;5;124m\"\u001b[39m\n\u001b[1;32m     71\u001b[0m                 \u001b[38;5;124mf\u001b[39m\u001b[38;5;124m\"\u001b[39m\u001b[38;5;124mof distribution \u001b[39m\u001b[38;5;132;01m{\u001b[39;00m\u001b[38;5;28mrepr\u001b[39m(\u001b[38;5;28mself\u001b[39m)\u001b[38;5;132;01m}\u001b[39;00m\u001b[38;5;124m \u001b[39m\u001b[38;5;124m\"\u001b[39m\n\u001b[1;32m     72\u001b[0m                 \u001b[38;5;124mf\u001b[39m\u001b[38;5;124m\"\u001b[39m\u001b[38;5;124mto satisfy the constraint \u001b[39m\u001b[38;5;132;01m{\u001b[39;00m\u001b[38;5;28mrepr\u001b[39m(constraint)\u001b[38;5;132;01m}\u001b[39;00m\u001b[38;5;124m, \u001b[39m\u001b[38;5;124m\"\u001b[39m\n\u001b[1;32m     73\u001b[0m                 \u001b[38;5;124mf\u001b[39m\u001b[38;5;124m\"\u001b[39m\u001b[38;5;124mbut found invalid values:\u001b[39m\u001b[38;5;130;01m\\n\u001b[39;00m\u001b[38;5;132;01m{\u001b[39;00mvalue\u001b[38;5;132;01m}\u001b[39;00m\u001b[38;5;124m\"\u001b[39m\n\u001b[1;32m     74\u001b[0m             )\n\u001b[1;32m     75\u001b[0m \u001b[38;5;28msuper\u001b[39m()\u001b[38;5;241m.\u001b[39m\u001b[38;5;21m__init__\u001b[39m()\n",
      "\u001b[0;31mValueError\u001b[0m: Expected parameter loc (Tensor of shape (4096, 1)) of distribution Normal(loc: torch.Size([4096, 1]), scale: torch.Size([4096, 1])) to satisfy the constraint Real(), but found invalid values:\ntensor([[nan],\n        [nan],\n        [nan],\n        ...,\n        [nan],\n        [nan],\n        [nan]], grad_fn=<AddBackward0>)"
     ]
    }
   ],
   "source": [
    "losses = train(\n",
    "    dvi_process, \n",
    "    device, \n",
    "    dataloader, \n",
    "    optimizer, \n",
    "    config.num_epochs, \n",
    "    target,\n",
    "    wandb_logging=wandb_logging\n",
    ")"
   ]
  },
  {
   "cell_type": "code",
   "execution_count": 17,
   "metadata": {},
   "outputs": [
    {
     "name": "stdout",
     "output_type": "stream",
     "text": [
      "tensor([-5.7756])\n"
     ]
    },
    {
     "ename": "IndexError",
     "evalue": "Dimension out of range (expected to be in range of [-1, 0], but got 1)",
     "output_type": "error",
     "traceback": [
      "\u001b[0;31m---------------------------------------------------------------------------\u001b[0m",
      "\u001b[0;31mIndexError\u001b[0m                                Traceback (most recent call last)",
      "Cell \u001b[0;32mIn[17], line 28\u001b[0m\n\u001b[1;32m     24\u001b[0m     z_T_samples \u001b[38;5;241m=\u001b[39m z_samples[\u001b[38;5;241m-\u001b[39m\u001b[38;5;241m1\u001b[39m]\u001b[38;5;241m.\u001b[39msqueeze(\u001b[38;5;241m1\u001b[39m)\u001b[38;5;241m.\u001b[39mtolist()\n\u001b[1;32m     26\u001b[0m     z_trajectories \u001b[38;5;241m=\u001b[39m [[z[i]\u001b[38;5;241m.\u001b[39mcpu()\u001b[38;5;241m.\u001b[39mnumpy() \u001b[38;5;28;01mfor\u001b[39;00m z \u001b[38;5;129;01min\u001b[39;00m z_samples] \u001b[38;5;28;01mfor\u001b[39;00m i \u001b[38;5;129;01min\u001b[39;00m \u001b[38;5;28mrange\u001b[39m(num_samples)]\n\u001b[0;32m---> 28\u001b[0m     z_samples \u001b[38;5;241m=\u001b[39m \u001b[43mp_z_T\u001b[49m\u001b[38;5;241;43m.\u001b[39;49m\u001b[43msample\u001b[49m\u001b[43m(\u001b[49m\u001b[43m)\u001b[49m\u001b[38;5;241;43m.\u001b[39;49m\u001b[43msqueeze\u001b[49m\u001b[43m(\u001b[49m\u001b[38;5;241;43m1\u001b[39;49m\u001b[43m)\u001b[49m\u001b[38;5;241m.\u001b[39mtolist()\n\u001b[1;32m     30\u001b[0m fig, ax \u001b[38;5;241m=\u001b[39m plt\u001b[38;5;241m.\u001b[39msubplots(\u001b[38;5;241m1\u001b[39m, \u001b[38;5;241m4\u001b[39m, figsize\u001b[38;5;241m=\u001b[39m(\u001b[38;5;241m18\u001b[39m, \u001b[38;5;241m3\u001b[39m), gridspec_kw\u001b[38;5;241m=\u001b[39m{\u001b[38;5;124m'\u001b[39m\u001b[38;5;124mwidth_ratios\u001b[39m\u001b[38;5;124m'\u001b[39m: [\u001b[38;5;241m1\u001b[39m, \u001b[38;5;241m3\u001b[39m, \u001b[38;5;241m1\u001b[39m, \u001b[38;5;241m1\u001b[39m]})\n\u001b[1;32m     32\u001b[0m sns\u001b[38;5;241m.\u001b[39mkdeplot(z_0_samples, ax\u001b[38;5;241m=\u001b[39max[\u001b[38;5;241m0\u001b[39m])\n",
      "\u001b[0;31mIndexError\u001b[0m: Dimension out of range (expected to be in range of [-1, 0], but got 1)"
     ]
    }
   ],
   "source": [
    "num_samples = 256\n",
    "\n",
    "context = torch.zeros((config.z_dim), device=device).unsqueeze(0).repeat(num_samples, 1)\n",
    "# context = torch.ones((z_dim), device=device).unsqueeze(0).repeat(num_samples, 1) * 5\n",
    "\n",
    "p_z_0 = Normal(\n",
    "    torch.zeros((num_samples, config.z_dim), device=device),\n",
    "    torch.ones((num_samples, config.z_dim), device=device) # * dvi_process.sigmas[0],\n",
    ")\n",
    "\n",
    "p_z_T = target(context)\n",
    "\n",
    "dvi_process.eval()\n",
    "with torch.no_grad():\n",
    "    _, z_samples = dvi_process.run_chain(p_z_0, p_z_T, context.to(device))\n",
    "\n",
    "    z_0_samples = z_samples[0].squeeze(1).tolist()\n",
    "    z_T_samples = z_samples[-1].squeeze(1).tolist()\n",
    "\n",
    "    z_trajectories = [[z[i].cpu().numpy() for z in z_samples] for i in range(num_samples)]\n",
    "\n",
    "    z_samples = p_z_T.sample().squeeze(1).tolist()\n",
    "\n",
    "fig, ax = plt.subplots(1, 4, figsize=(18, 3), gridspec_kw={'width_ratios': [1, 3, 1, 1]})\n",
    "\n",
    "sns.kdeplot(z_0_samples, ax=ax[0])\n",
    "ax[0].set_title(\"Prior $q(z_0)$\")\n",
    "ax[0].set_ylabel(None)\n",
    "ax[0].set_xlim(-8, 8)\n",
    "ax[0].set_ylim(0, 0.7)\n",
    "\n",
    "for i in range(num_samples):\n",
    "    ax[1].plot(z_trajectories[i])\n",
    "ax[1].set_title(\"Samples from Forward Process $q(z_{0:T}|c)$\")\n",
    "\n",
    "sns.kdeplot(z_T_samples, ax=ax[2])\n",
    "ax[2].set_title(\"Marginal $q(z_T|z_{0:T-1},c)$\")\n",
    "ax[2].set_ylabel(None)\n",
    "ax[2].set_xlim(-8, 8)\n",
    "ax[2].set_ylim(0, 0.7)\n",
    "\n",
    "sns.kdeplot(z_samples, ax=ax[3])\n",
    "ax[3].set_title(\"Ground-Truth $p(z|c)$\")\n",
    "ax[3].set_ylabel(None)\n",
    "ax[3].set_xlim(-8, 8)\n",
    "ax[3].set_ylim(0, 0.7)\n",
    "\n",
    "plt.tight_layout()\n",
    "plt.show()"
   ]
  },
  {
   "cell_type": "code",
   "execution_count": null,
   "metadata": {},
   "outputs": [],
   "source": []
  }
 ],
 "metadata": {
  "kernelspec": {
   "display_name": "directml",
   "language": "python",
   "name": "python3"
  },
  "language_info": {
   "codemirror_mode": {
    "name": "ipython",
    "version": 3
   },
   "file_extension": ".py",
   "mimetype": "text/x-python",
   "name": "python",
   "nbconvert_exporter": "python",
   "pygments_lexer": "ipython3",
   "version": "3.11.9"
  }
 },
 "nbformat": 4,
 "nbformat_minor": 2
}
